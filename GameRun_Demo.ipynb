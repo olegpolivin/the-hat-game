{
 "cells": [
  {
   "cell_type": "markdown",
   "metadata": {},
   "source": [
    "# Hat game demo\n",
    "In this notebook we\n",
    "1. download sample corpus\n",
    "1. train few models on it\n",
    "1. write a class which will follow AbstractPlayer conventions\n",
    "1. finally, play the game between local models (players) and one remote :)\n",
    "\n",
    "Note that exact output may be not reproducible as the remote player could change over time or even fail/timeout at some point"
   ]
  },
  {
   "cell_type": "code",
   "execution_count": 1,
   "metadata": {},
   "outputs": [
    {
     "name": "stderr",
     "output_type": "stream",
     "text": [
      "[nltk_data] Downloading package wordnet to\n",
      "[nltk_data]     /Users/olegpolivin/nltk_data...\n",
      "[nltk_data]   Package wordnet is already up-to-date!\n",
      "[nltk_data] Downloading package punkt to\n",
      "[nltk_data]     /Users/olegpolivin/nltk_data...\n",
      "[nltk_data]   Package punkt is already up-to-date!\n"
     ]
    }
   ],
   "source": [
    "from pathlib import Path\n",
    "\n",
    "import numpy as np\n",
    "import pandas as pd\n",
    "import fasttext\n",
    "from sklearn.metrics.pairwise import cosine_similarity\n",
    "from tqdm import tqdm\n",
    "\n",
    "from the_hat_game.game import Game\n",
    "from the_hat_game.players import PlayerDefinition, AbstractPlayer, RemotePlayer\n",
    "\n",
    "pd.set_option('display.max_colwidth', 200)"
   ]
  },
  {
   "cell_type": "markdown",
   "metadata": {},
   "source": [
    "## download sample text corpus"
   ]
  },
  {
   "cell_type": "code",
   "execution_count": 2,
   "metadata": {},
   "outputs": [],
   "source": [
    "%%bash\n",
    "cd texts\n",
    "wget --quiet http://qwone.com/~jason/20Newsgroups/20news-19997.tar.gz\n",
    "tar -zxf 20news-19997.tar.gz\n",
    "rm 20news-19997.tar.gz"
   ]
  },
  {
   "cell_type": "code",
   "execution_count": 3,
   "metadata": {},
   "outputs": [],
   "source": [
    "file_path =  Path('texts/20-newsgroups.txt')\n",
    "folder = Path('texts/20_newsgroups/')"
   ]
  },
  {
   "cell_type": "code",
   "execution_count": 4,
   "metadata": {},
   "outputs": [
    {
     "name": "stderr",
     "output_type": "stream",
     "text": [
      "100%|██████████████████████████████████████████████████████████████████████████████████████████████████| 20017/20017 [00:02<00:00, 7542.79it/s]\n"
     ]
    }
   ],
   "source": [
    "with open(file_path, 'w', encoding='utf-8') as f_write:\n",
    "    files = list(folder.rglob('*'))\n",
    "    for object_path in tqdm(files):\n",
    "        if object_path.is_dir():\n",
    "            continue\n",
    "        with open(object_path, encoding='latin-1') as stream:\n",
    "            for line in stream:\n",
    "                f_write.write(line)"
   ]
  },
  {
   "cell_type": "code",
   "execution_count": 5,
   "metadata": {},
   "outputs": [
    {
     "name": "stdout",
     "output_type": "stream",
     "text": [
      " 6046669 texts/20-newsgroups.txt\r\n"
     ]
    }
   ],
   "source": [
    "!wc -w {file_path}"
   ]
  },
  {
   "cell_type": "code",
   "execution_count": 6,
   "metadata": {
    "scrolled": false
   },
   "outputs": [
    {
     "name": "stdout",
     "output_type": "stream",
     "text": [
      "Newsgroups: talk.politics.mideast\r\n",
      "Path: cantaloupe.srv.cs.cmu.edu!crabapple.srv.cs.cmu.edu!bb3.andrew.cmu.edu!news.sei.cmu.edu!cis.ohio-state.edu!zaphod.mps.ohio-state.edu!cs.utexas.edu!uunet!brunix!doorknob!hm\r\n",
      "From: hm@cs.brown.edu (Harry Mamaysky)\r\n",
      "Subject: Heil Hernlem \r\n",
      "In-Reply-To: hernlem@chess.ncsu.edu's message of Wed, 14 Apr 1993 12:58:13 GMT\r\n"
     ]
    }
   ],
   "source": [
    "!head -5 {file_path}"
   ]
  },
  {
   "cell_type": "markdown",
   "metadata": {},
   "source": [
    "## Train several models"
   ]
  },
  {
   "cell_type": "code",
   "execution_count": 7,
   "metadata": {},
   "outputs": [
    {
     "name": "stderr",
     "output_type": "stream",
     "text": [
      "Read 7M words\n",
      "Number of words:  72228\n",
      "Number of labels: 0\n",
      "Progress: 100.0% words/sec/thread:  178952 lr:  0.000000 avg.loss:  1.811777 ETA:   0h 0m 0s  8.5% words/sec/thread:  154469 lr:  0.045733 avg.loss:  1.986145 ETA:   0h 1m 9s 29.3% words/sec/thread:  190170 lr:  0.035336 avg.loss:  1.855177 ETA:   0h 0m43s 37.6% words/sec/thread:  191334 lr:  0.031216 avg.loss:  1.841427 ETA:   0h 0m38s 56.3% words/sec/thread:  179810 lr:  0.021848 avg.loss:  1.848673 ETA:   0h 0m28s 73.0% words/sec/thread:  180225 lr:  0.013486 avg.loss:  1.845630 ETA:   0h 0m17s 81.3% words/sec/thread:  180140 lr:  0.009373 avg.loss:  1.848708 ETA:   0h 0m12s 89.9% words/sec/thread:  179037 lr:  0.005073 avg.loss:  1.832059 ETA:   0h 0m 6s words/sec/thread:  178427 lr:  0.004913 avg.loss:  1.831022 ETA:   0h 0m 6s 90.7% words/sec/thread:  177622 lr:  0.004655 avg.loss:  1.829071 ETA:   0h 0m 6s\n",
      "Read 7M words\n",
      "Number of words:  72228\n",
      "Number of labels: 0\n",
      "Progress: 100.0% words/sec/thread:  310643 lr:  0.000000 avg.loss:  1.774640 ETA:   0h 0m 0s 20.9% words/sec/thread:  326761 lr:  0.039553 avg.loss:  2.123074 ETA:   0h 0m28s 43.6% words/sec/thread:  350520 lr:  0.028192 avg.loss:  1.940951 ETA:   0h 0m18s 47.9% words/sec/thread:  343707 lr:  0.026072 avg.loss:  1.927252 ETA:   0h 0m17s 59.9% words/sec/thread:  339867 lr:  0.020063 avg.loss:  1.878824 ETA:   0h 0m13s 71.3% words/sec/thread:  333075 lr:  0.014372 avg.loss:  1.842295 ETA:   0h 0m10s1.805002 ETA:   0h 0m 5s 95.6% words/sec/thread:  309457 lr:  0.002210 avg.loss:  1.780559 ETA:   0h 0m 1s 97.1% words/sec/thread:  309281 lr:  0.001437 avg.loss:  1.777925 ETA:   0h 0m 1s\n",
      "Read 7M words\n",
      "Number of words:  72228\n",
      "Number of labels: 0\n",
      "Progress:  99.9% words/sec/thread:  187602 lr:  0.000062 avg.loss:  1.744509 ETA:   0h 0m 0s  3.1% words/sec/thread:  140266 lr:  0.048466 avg.loss:  2.301816 ETA:   0h 1m21s  5.8% words/sec/thread:  142947 lr:  0.047119 avg.loss:  2.067106 ETA:   0h 1m17s 40.1% words/sec/thread:  171668 lr:  0.029955 avg.loss:  1.799834 ETA:   0h 0m40s 44.9% words/sec/thread:  171473 lr:  0.027573 avg.loss:  1.798662 ETA:   0h 0m37s 45.2% words/sec/thread:  171723 lr:  0.027391 avg.loss:  1.798120 ETA:   0h 0m37s 49.4% words/sec/thread:  174142 lr:  0.025321 avg.loss:  1.796268 ETA:   0h 0m34s% words/sec/thread:  175123 lr:  0.018224 avg.loss:  1.791918 ETA:   0h 0m24s175735 lr:  0.012875 avg.loss:  1.778294 ETA:   0h 0m17s 81.4% words/sec/thread:  178726 lr:  0.009277 avg.loss:  1.783262 ETA:   0h 0m12s 93.1% words/sec/thread:  184516 lr:  0.003451 avg.loss:  1.757863 ETA:   0h 0m 4s 93.9% words/sec/thread:  184912 lr:  0.003029 avg.loss:  1.755565 ETA:   0h 0m 3s 99.7% words/sec/thread:  187503 lr:  0.000170 avg.loss:  1.744614 ETA:   0h 0m 0s"
     ]
    },
    {
     "name": "stdout",
     "output_type": "stream",
     "text": [
      "CPU times: user 6min 10s, sys: 5.4 s, total: 6min 16s\n",
      "Wall time: 2min 50s\n"
     ]
    },
    {
     "name": "stderr",
     "output_type": "stream",
     "text": [
      "\r\n",
      "Progress: 100.0% words/sec/thread:  187530 lr: -0.000000 avg.loss:  1.744667 ETA:   0h 0m 0s\r\n",
      "Progress: 100.0% words/sec/thread:  187529 lr:  0.000000 avg.loss:  1.744667 ETA:   0h 0m 0s\n"
     ]
    }
   ],
   "source": [
    "%%time\n",
    "\n",
    "model_skipgram = fasttext.train_unsupervised(str(file_path), model='skipgram', dim=5)\n",
    "model_cbow = fasttext.train_unsupervised(str(file_path), model='cbow', dim=16)\n",
    "model_skipgram2 = fasttext.train_unsupervised(str(file_path), model='skipgram', dim=10)"
   ]
  },
  {
   "cell_type": "code",
   "execution_count": 8,
   "metadata": {},
   "outputs": [
    {
     "data": {
      "text/plain": [
       "'the'"
      ]
     },
     "execution_count": 8,
     "metadata": {},
     "output_type": "execute_result"
    }
   ],
   "source": [
    "model_skipgram.words[1]"
   ]
  },
  {
   "cell_type": "code",
   "execution_count": 9,
   "metadata": {},
   "outputs": [
    {
     "data": {
      "text/plain": [
       "72228"
      ]
     },
     "execution_count": 9,
     "metadata": {},
     "output_type": "execute_result"
    }
   ],
   "source": [
    "len(model_skipgram.words)"
   ]
  },
  {
   "cell_type": "code",
   "execution_count": 10,
   "metadata": {},
   "outputs": [
    {
     "data": {
      "text/plain": [
       "array([-1.5538737 , -0.27101302,  0.41967082, -0.797175  ,  0.45186338],\n",
       "      dtype=float32)"
      ]
     },
     "execution_count": 10,
     "metadata": {},
     "output_type": "execute_result"
    }
   ],
   "source": [
    "model_skipgram['song']"
   ]
  },
  {
   "cell_type": "code",
   "execution_count": 11,
   "metadata": {},
   "outputs": [
    {
     "name": "stdout",
     "output_type": "stream",
     "text": [
      "mkdir: models: File exists\r\n"
     ]
    }
   ],
   "source": [
    "!mkdir models\n",
    "model_skipgram.save_model('models/skipgram.model')\n",
    "model_skipgram2.save_model('models/skipgram2.model')\n",
    "model_cbow.save_model('models/cbow.model')"
   ]
  },
  {
   "cell_type": "code",
   "execution_count": 12,
   "metadata": {},
   "outputs": [
    {
     "name": "stdout",
     "output_type": "stream",
     "text": [
      "total 2190872\r\n",
      "-rw-r--r--  1 olegpolivin  staff   787M Jun 10 14:47 2021_06_05_processed.model\r\n",
      "-rw-r--r--  1 olegpolivin  staff   132M Nov  9 00:03 cbow.model\r\n",
      "-rw-r--r--  1 olegpolivin  staff    42M Nov  9 00:03 skipgram.model\r\n",
      "-rw-r--r--  1 olegpolivin  staff    83M Nov  9 00:03 skipgram2.model\r\n"
     ]
    }
   ],
   "source": [
    "!ls -lh models"
   ]
  },
  {
   "cell_type": "markdown",
   "metadata": {},
   "source": [
    "## Players' classes for fasttext models"
   ]
  },
  {
   "cell_type": "code",
   "execution_count": 13,
   "metadata": {},
   "outputs": [],
   "source": [
    "class LocalFasttextPlayer(AbstractPlayer):\n",
    "    def __init__(self, model):\n",
    "        self.model = model\n",
    "\n",
    "    def find_words_for_sentence(self, sentence, n_closest):\n",
    "        neighbours = self.model.get_nearest_neighbors(sentence)\n",
    "        words = [word for similariry, word in neighbours][:n_closest]\n",
    "        return words\n",
    "\n",
    "    def explain(self, word, n_words):\n",
    "        return self.find_words_for_sentence(word, n_words)\n",
    "\n",
    "    def guess(self, words, n_words):\n",
    "        return self.find_words_for_sentence(' '.join(words), n_words)"
   ]
  },
  {
   "cell_type": "code",
   "execution_count": 14,
   "metadata": {
    "scrolled": true
   },
   "outputs": [
    {
     "name": "stdout",
     "output_type": "stream",
     "text": [
      "['work', 'discontent', 'probably:', 'lopid', 'gives', 'putty', 'refund', 'strangest', 'enuff', 'inovative']\n",
      "{'word_list': ['bars;', 'earnings', 'appellate', 'discoverd', 'phage'], 'time': 1.49043, 'code': 200}\n"
     ]
    }
   ],
   "source": [
    "# check remotely deployed service\n",
    "remote_player = RemotePlayer('https://obscure-everglades-02893.herokuapp.com')\n",
    "\n",
    "print(remote_player.explain('work', 10))\n",
    "print(remote_player.guess(['job', 'employee', 'office'], 5))"
   ]
  },
  {
   "cell_type": "code",
   "execution_count": 15,
   "metadata": {
    "scrolled": true
   },
   "outputs": [
    {
     "name": "stdout",
     "output_type": "stream",
     "text": [
      "['outlets.', 'outlets,', 'moot', 'perm', 'floating', 'fixing', 'PMP', 'suspension,', 'labels,', 'expensive']\n",
      "{'word_list': ['et.', '+|>', 'skeletons', 'echoes', 'nn'], 'time': 0, 'code': 200}\n"
     ]
    }
   ],
   "source": [
    "local_player = LocalFasttextPlayer(model_skipgram)\n",
    "print(local_player.explain('work', 10))\n",
    "print(local_player.guess(['job', 'employee', 'office'], 5))"
   ]
  },
  {
   "cell_type": "markdown",
   "metadata": {},
   "source": [
    "## Playing game!"
   ]
  },
  {
   "cell_type": "code",
   "execution_count": null,
   "metadata": {
    "scrolled": false
   },
   "outputs": [
    {
     "name": "stderr",
     "output_type": "stream",
     "text": [
      "HOST to EXPLAINING PLAYER (HerokuOrg team): the word is \"billion\"\n",
      "EXPLAINING PLAYER (HerokuOrg team) to HOST: my wordlist is ['billion', 'dings', '>near', 'pellets', 'prelude', '100th', 'ammo', 'calibre', 'mile', 'corollas']\n",
      "HOST TO EXPLAINING PLAYER (HerokuOrg team): cleaning your word list. Now the list is ['dings', 'near', 'pellets', 'prelude', 'th', 'ammo', 'calibre', 'mile', 'corollas']\n",
      "\n",
      "===ROUND 1===\n",
      "\n",
      "HOST: ['dings']\n",
      "GUESSING PLAYER (skipgram2 team) to HOST: ['headings', 'joints', 'astronauts.', 'launchers.', 'launchers']\n",
      "HOST: False\n",
      "GUESSING PLAYER (skipgram team) to HOST: ['probes', 'es', 'steroid', 'extern', 'district']\n",
      "HOST: False\n",
      "GUESSING PLAYER (cbow team) to HOST: ['headings', 'earnings', 'stunts', 'hinges', 'rings']\n",
      "HOST: False\n",
      "\n",
      "===ROUND 2===\n",
      "\n",
      "HOST: ['dings', 'near']\n",
      "GUESSING PLAYER (skipgram2 team) to HOST: ['launchers', 'rocket', 'plaques', 'windings', 'landings,']\n",
      "HOST: False\n",
      "GUESSING PLAYER (skipgram team) to HOST: ['airport', 'Moon,', '(west', 'launched', 'coast']\n",
      "HOST: False\n",
      "GUESSING PLAYER (cbow team) to HOST: ['colliding', 'buildings,', 'fielding', 'delivering', 'buildings']\n",
      "HOST: False\n",
      "\n",
      "===ROUND 3===\n",
      "\n",
      "HOST: ['dings', 'near', 'pellets']\n",
      "GUESSING PLAYER (skipgram2 team) to HOST: ['\"SCHWARZENEGGER\"', 'housekeeping', '(carrying', 'navy', 'lanterns.']\n",
      "HOST: False\n",
      "GUESSING PLAYER (skipgram team) to HOST: ['2.5million', 'gland', 'IgA', 'Five', 'actor']\n",
      "HOST: False\n",
      "GUESSING PLAYER (cbow team) to HOST: ['putouts', 'stacks', 'puts', 'hotels', 'bulletins']\n",
      "HOST: False\n",
      "\n",
      "===ROUND 4===\n",
      "\n",
      "HOST: ['dings', 'near', 'pellets', 'prelude']\n",
      "GUESSING PLAYER (skipgram2 team) to HOST: ['\"SCHWARZENEGGER\"', '>rules', 'barracks', 'parachute', 'F-holder']\n",
      "HOST: False\n",
      "GUESSING PLAYER (skipgram team) to HOST: ['RBC', '\"SCHWARZENEGGER\"', '>Niles', 'Passenger', 'Losing']\n",
      "HOST: False\n",
      "GUESSING PLAYER (cbow team) to HOST: [\"infringed.'\", 'disclose', 'brownbladerunnersugarcubeselectronicblaylockpowersspikeleekatebushhamcornpizza', 'diarrhea', 'elephant']\n",
      "HOST: False\n",
      "\n",
      "===ROUND 5===\n",
      "\n",
      "HOST: ['dings', 'near', 'pellets', 'prelude', 'th']\n",
      "GUESSING PLAYER (skipgram2 team) to HOST: ['tinnitus', 'parachute', 'kc>', 'F-holder', 'Scandinavians']\n",
      "HOST: False\n",
      "GUESSING PLAYER (skipgram team) to HOST: ['spectacular,', 'Losing', 'later),', 'mins', \"'Karla',\"]\n",
      "HOST: False\n",
      "GUESSING PLAYER (cbow team) to HOST: ['shortcomings', 'colliding', 'barehanded', 'syringe', 'barracks']\n",
      "HOST: False\n",
      "\n",
      "===ROUND 6===\n",
      "\n",
      "HOST: ['dings', 'near', 'pellets', 'prelude', 'th', 'ammo']\n",
      "GUESSING PLAYER (skipgram2 team) to HOST: ['\"SCHWARZENEGGER\"', 'turbocharged', 'housekeeping', 'gallon', 'Oxygen']\n",
      "HOST: False\n",
      "GUESSING PLAYER (skipgram team) to HOST: ['later),', 'Pentagon', 'plywood/carpet', '>>Red', 'spectacular,']\n",
      "HOST: False\n",
      "GUESSING PLAYER (cbow team) to HOST: ['shortcomings', \"infringed.'\", 'diarrhea', 'disclose', 'deluxe']\n",
      "HOST: False\n",
      "\n",
      "===ROUND 7===\n",
      "\n",
      "HOST: ['dings', 'near', 'pellets', 'prelude', 'th', 'ammo', 'calibre']\n",
      "GUESSING PLAYER (skipgram2 team) to HOST: ['turbocharged', 'barbeque', 'landmark', 'MR\\\\O+R\\\\O+R\\\\O+R\\\\O+R\\\\O+R\\\\O+R\\\\O+R\\\\O+R\\\\O+R\\\\O+R\\\\O+R\\\\O+R\\\\O+R\\\\O+R\\\\O+', 'tailgate']\n",
      "HOST: False\n",
      "GUESSING PLAYER (skipgram team) to HOST: ['later;', 'close-out', 'Pentagon', 'Caps,', 'IVF-ET']\n",
      "HOST: False\n",
      "GUESSING PLAYER (cbow team) to HOST: ['semi', 'deluxe', 'deploy', 'disclosure', 'disclose']\n",
      "HOST: False\n",
      "\n",
      "===ROUND 8===\n",
      "\n",
      "HOST: ['dings', 'near', 'pellets', 'prelude', 'th', 'ammo', 'calibre', 'mile']\n",
      "GUESSING PLAYER (skipgram2 team) to HOST: ['turbocharged', 'MR\\\\O+R\\\\O+R\\\\O+R\\\\O+R\\\\O+R\\\\O+R\\\\O+R\\\\O+R\\\\O+R\\\\O+R\\\\O+R\\\\O+R\\\\O+R\\\\O+R\\\\O+', 'barbeque', 'landmark', 'tailgate']\n",
      "HOST: False\n",
      "GUESSING PLAYER (skipgram team) to HOST: ['later;', 'IVF-ET', 'Euclidean', 'ndet_loop.c:687:', \"'Karla',\"]\n",
      "HOST: False\n",
      "GUESSING PLAYER (cbow team) to HOST: ['deluxe', 'deploy', 'seminar', 'brownbladerunnersugarcubeselectronicblaylockpowersspikeleekatebushhamcornpizza', 'semi']\n",
      "HOST: False\n",
      "\n",
      "===ROUND 9===\n",
      "\n",
      "HOST: ['dings', 'near', 'pellets', 'prelude', 'th', 'ammo', 'calibre', 'mile', 'corollas']\n",
      "GUESSING PLAYER (skipgram2 team) to HOST: ['turbocharged', 'MR\\\\O+R\\\\O+R\\\\O+R\\\\O+R\\\\O+R\\\\O+R\\\\O+R\\\\O+R\\\\O+R\\\\O+R\\\\O+R\\\\O+R\\\\O+R\\\\O+R\\\\O+', 'gallon', \"'B'\", 'axel']\n",
      "HOST: False\n",
      "GUESSING PLAYER (skipgram team) to HOST: ['km,', '\"Power', 'Hasbani', 'Euclidean', 'Mk']\n",
      "HOST: False\n",
      "GUESSING PLAYER (cbow team) to HOST: ['brownbladerunnersugarcubeselectronicblaylockpowersspikeleekatebushhamcornpizza', 'mass-market', 'bulletin', 'seminar', 'tin']\n",
      "HOST: False\n",
      "\n",
      "\n",
      "SCORES: {'HerokuOrg team': 0}\n"
     ]
    },
    {
     "data": {
      "text/html": [
       "<div>\n",
       "<style scoped>\n",
       "    .dataframe tbody tr th:only-of-type {\n",
       "        vertical-align: middle;\n",
       "    }\n",
       "\n",
       "    .dataframe tbody tr th {\n",
       "        vertical-align: top;\n",
       "    }\n",
       "\n",
       "    .dataframe thead th {\n",
       "        text-align: right;\n",
       "    }\n",
       "</style>\n",
       "<table border=\"1\" class=\"dataframe\">\n",
       "  <thead>\n",
       "    <tr style=\"text-align: right;\">\n",
       "      <th></th>\n",
       "      <th>Explanation for \"billion\" (HerokuOrg team)</th>\n",
       "      <th>Guess (skipgram2 team)</th>\n",
       "      <th>Guess (skipgram team)</th>\n",
       "      <th>Guess (cbow team)</th>\n",
       "    </tr>\n",
       "  </thead>\n",
       "  <tbody>\n",
       "    <tr>\n",
       "      <th>0</th>\n",
       "      <td>[dings]</td>\n",
       "      <td>[headings, joints, astronauts., launchers., launchers]</td>\n",
       "      <td>[probes, es, steroid, extern, district]</td>\n",
       "      <td>[headings, earnings, stunts, hinges, rings]</td>\n",
       "    </tr>\n",
       "    <tr>\n",
       "      <th>1</th>\n",
       "      <td>[dings, near]</td>\n",
       "      <td>[launchers, rocket, plaques, windings, landings,]</td>\n",
       "      <td>[airport, Moon,, (west, launched, coast]</td>\n",
       "      <td>[colliding, buildings,, fielding, delivering, buildings]</td>\n",
       "    </tr>\n",
       "    <tr>\n",
       "      <th>2</th>\n",
       "      <td>[dings, near, pellets]</td>\n",
       "      <td>[\"SCHWARZENEGGER\", housekeeping, (carrying, navy, lanterns.]</td>\n",
       "      <td>[2.5million, gland, IgA, Five, actor]</td>\n",
       "      <td>[putouts, stacks, puts, hotels, bulletins]</td>\n",
       "    </tr>\n",
       "    <tr>\n",
       "      <th>3</th>\n",
       "      <td>[dings, near, pellets, prelude]</td>\n",
       "      <td>[\"SCHWARZENEGGER\", &gt;rules, barracks, parachute, F-holder]</td>\n",
       "      <td>[RBC, \"SCHWARZENEGGER\", &gt;Niles, Passenger, Losing]</td>\n",
       "      <td>[infringed.', disclose, brownbladerunnersugarcubeselectronicblaylockpowersspikeleekatebushhamcornpizza, diarrhea, elephant]</td>\n",
       "    </tr>\n",
       "    <tr>\n",
       "      <th>4</th>\n",
       "      <td>[dings, near, pellets, prelude, th]</td>\n",
       "      <td>[tinnitus, parachute, kc&gt;, F-holder, Scandinavians]</td>\n",
       "      <td>[spectacular,, Losing, later),, mins, 'Karla',]</td>\n",
       "      <td>[shortcomings, colliding, barehanded, syringe, barracks]</td>\n",
       "    </tr>\n",
       "    <tr>\n",
       "      <th>5</th>\n",
       "      <td>[dings, near, pellets, prelude, th, ammo]</td>\n",
       "      <td>[\"SCHWARZENEGGER\", turbocharged, housekeeping, gallon, Oxygen]</td>\n",
       "      <td>[later),, Pentagon, plywood/carpet, &gt;&gt;Red, spectacular,]</td>\n",
       "      <td>[shortcomings, infringed.', diarrhea, disclose, deluxe]</td>\n",
       "    </tr>\n",
       "    <tr>\n",
       "      <th>6</th>\n",
       "      <td>[dings, near, pellets, prelude, th, ammo, calibre]</td>\n",
       "      <td>[turbocharged, barbeque, landmark, MR\\O+R\\O+R\\O+R\\O+R\\O+R\\O+R\\O+R\\O+R\\O+R\\O+R\\O+R\\O+R\\O+R\\O+R\\O+, tailgate]</td>\n",
       "      <td>[later;, close-out, Pentagon, Caps,, IVF-ET]</td>\n",
       "      <td>[semi, deluxe, deploy, disclosure, disclose]</td>\n",
       "    </tr>\n",
       "    <tr>\n",
       "      <th>7</th>\n",
       "      <td>[dings, near, pellets, prelude, th, ammo, calibre, mile]</td>\n",
       "      <td>[turbocharged, MR\\O+R\\O+R\\O+R\\O+R\\O+R\\O+R\\O+R\\O+R\\O+R\\O+R\\O+R\\O+R\\O+R\\O+R\\O+, barbeque, landmark, tailgate]</td>\n",
       "      <td>[later;, IVF-ET, Euclidean, ndet_loop.c:687:, 'Karla',]</td>\n",
       "      <td>[deluxe, deploy, seminar, brownbladerunnersugarcubeselectronicblaylockpowersspikeleekatebushhamcornpizza, semi]</td>\n",
       "    </tr>\n",
       "    <tr>\n",
       "      <th>8</th>\n",
       "      <td>[dings, near, pellets, prelude, th, ammo, calibre, mile, corollas]</td>\n",
       "      <td>[turbocharged, MR\\O+R\\O+R\\O+R\\O+R\\O+R\\O+R\\O+R\\O+R\\O+R\\O+R\\O+R\\O+R\\O+R\\O+R\\O+, gallon, 'B', axel]</td>\n",
       "      <td>[km,, \"Power, Hasbani, Euclidean, Mk]</td>\n",
       "      <td>[brownbladerunnersugarcubeselectronicblaylockpowersspikeleekatebushhamcornpizza, mass-market, bulletin, seminar, tin]</td>\n",
       "    </tr>\n",
       "  </tbody>\n",
       "</table>\n",
       "</div>"
      ],
      "text/plain": [
       "                           Explanation for \"billion\" (HerokuOrg team)  \\\n",
       "0                                                             [dings]   \n",
       "1                                                       [dings, near]   \n",
       "2                                              [dings, near, pellets]   \n",
       "3                                     [dings, near, pellets, prelude]   \n",
       "4                                 [dings, near, pellets, prelude, th]   \n",
       "5                           [dings, near, pellets, prelude, th, ammo]   \n",
       "6                  [dings, near, pellets, prelude, th, ammo, calibre]   \n",
       "7            [dings, near, pellets, prelude, th, ammo, calibre, mile]   \n",
       "8  [dings, near, pellets, prelude, th, ammo, calibre, mile, corollas]   \n",
       "\n",
       "                                                                                        Guess (skipgram2 team)  \\\n",
       "0                                                       [headings, joints, astronauts., launchers., launchers]   \n",
       "1                                                            [launchers, rocket, plaques, windings, landings,]   \n",
       "2                                                 [\"SCHWARZENEGGER\", housekeeping, (carrying, navy, lanterns.]   \n",
       "3                                                    [\"SCHWARZENEGGER\", >rules, barracks, parachute, F-holder]   \n",
       "4                                                          [tinnitus, parachute, kc>, F-holder, Scandinavians]   \n",
       "5                                               [\"SCHWARZENEGGER\", turbocharged, housekeeping, gallon, Oxygen]   \n",
       "6  [turbocharged, barbeque, landmark, MR\\O+R\\O+R\\O+R\\O+R\\O+R\\O+R\\O+R\\O+R\\O+R\\O+R\\O+R\\O+R\\O+R\\O+R\\O+, tailgate]   \n",
       "7  [turbocharged, MR\\O+R\\O+R\\O+R\\O+R\\O+R\\O+R\\O+R\\O+R\\O+R\\O+R\\O+R\\O+R\\O+R\\O+R\\O+, barbeque, landmark, tailgate]   \n",
       "8             [turbocharged, MR\\O+R\\O+R\\O+R\\O+R\\O+R\\O+R\\O+R\\O+R\\O+R\\O+R\\O+R\\O+R\\O+R\\O+R\\O+, gallon, 'B', axel]   \n",
       "\n",
       "                                      Guess (skipgram team)  \\\n",
       "0                   [probes, es, steroid, extern, district]   \n",
       "1                  [airport, Moon,, (west, launched, coast]   \n",
       "2                     [2.5million, gland, IgA, Five, actor]   \n",
       "3        [RBC, \"SCHWARZENEGGER\", >Niles, Passenger, Losing]   \n",
       "4           [spectacular,, Losing, later),, mins, 'Karla',]   \n",
       "5  [later),, Pentagon, plywood/carpet, >>Red, spectacular,]   \n",
       "6              [later;, close-out, Pentagon, Caps,, IVF-ET]   \n",
       "7   [later;, IVF-ET, Euclidean, ndet_loop.c:687:, 'Karla',]   \n",
       "8                     [km,, \"Power, Hasbani, Euclidean, Mk]   \n",
       "\n",
       "                                                                                                             Guess (cbow team)  \n",
       "0                                                                                  [headings, earnings, stunts, hinges, rings]  \n",
       "1                                                                     [colliding, buildings,, fielding, delivering, buildings]  \n",
       "2                                                                                   [putouts, stacks, puts, hotels, bulletins]  \n",
       "3  [infringed.', disclose, brownbladerunnersugarcubeselectronicblaylockpowersspikeleekatebushhamcornpizza, diarrhea, elephant]  \n",
       "4                                                                     [shortcomings, colliding, barehanded, syringe, barracks]  \n",
       "5                                                                      [shortcomings, infringed.', diarrhea, disclose, deluxe]  \n",
       "6                                                                                 [semi, deluxe, deploy, disclosure, disclose]  \n",
       "7              [deluxe, deploy, seminar, brownbladerunnersugarcubeselectronicblaylockpowersspikeleekatebushhamcornpizza, semi]  \n",
       "8        [brownbladerunnersugarcubeselectronicblaylockpowersspikeleekatebushhamcornpizza, mass-market, bulletin, seminar, tin]  "
      ]
     },
     "metadata": {},
     "output_type": "display_data"
    },
    {
     "name": "stderr",
     "output_type": "stream",
     "text": [
      "HOST to EXPLAINING PLAYER (skipgram2 team): the word is \"money\"\n",
      "EXPLAINING PLAYER (skipgram2 team) to HOST: my wordlist is ['taxes.', 'pay.', 'paying', 'money.', 'spend', 'spending.', 'guards', 'insure', 'pay', 'bank.']\n",
      "HOST TO EXPLAINING PLAYER (skipgram2 team): cleaning your word list. Now the list is ['taxes', 'pay', 'paying', 'spend', 'spending', 'guards', 'insure', 'bank']\n",
      "\n",
      "===ROUND 1===\n",
      "\n",
      "HOST: ['taxes']\n"
     ]
    }
   ],
   "source": [
    "N_EXPLAIN_WORDS = 10\n",
    "N_GUESSING_WORDS = 5\n",
    "N_ROUNDS = 1\n",
    "CRITERIA = 'soft'\n",
    "\n",
    "PLAYERS = [\n",
    "    PlayerDefinition('HerokuOrg team', RemotePlayer('https://obscure-everglades-02893.herokuapp.com')),\n",
    "    PlayerDefinition('skipgram team', LocalFasttextPlayer(model_skipgram)),\n",
    "    PlayerDefinition('skipgram2 team', LocalFasttextPlayer(model_skipgram2)),\n",
    "    PlayerDefinition('cbow team', LocalFasttextPlayer(model_cbow))\n",
    "]\n",
    "\n",
    "WORDS = ['dollar', 'percent', 'billion', 'money']\n",
    "\n",
    "game = Game(PLAYERS, WORDS, CRITERIA, N_ROUNDS, N_EXPLAIN_WORDS, N_GUESSING_WORDS, random_state=0)\n",
    "game.run(verbose='print_logs', complete=False)"
   ]
  },
  {
   "cell_type": "markdown",
   "metadata": {},
   "source": [
    "## View final game report"
   ]
  },
  {
   "cell_type": "code",
   "execution_count": null,
   "metadata": {},
   "outputs": [],
   "source": [
    "game.report_results(each_game=True)"
   ]
  }
 ],
 "metadata": {
  "interpreter": {
   "hash": "f12fbffe58efe8e6061d3a78c38aa10df599e2b27c9fdd1f2495d635fc409b3e"
  },
  "kernelspec": {
   "display_name": "Python 3.8.5 64-bit ('hatgame': conda)",
   "name": "python3"
  },
  "language_info": {
   "codemirror_mode": {
    "name": "ipython",
    "version": 3
   },
   "file_extension": ".py",
   "mimetype": "text/x-python",
   "name": "python",
   "nbconvert_exporter": "python",
   "pygments_lexer": "ipython3",
   "version": "3.8.5"
  },
  "toc": {
   "base_numbering": 1,
   "nav_menu": {},
   "number_sections": true,
   "sideBar": true,
   "skip_h1_title": false,
   "title_cell": "Table of Contents",
   "title_sidebar": "Contents",
   "toc_cell": false,
   "toc_position": {},
   "toc_section_display": true,
   "toc_window_display": false
  }
 },
 "nbformat": 4,
 "nbformat_minor": 2
}
